{
 "cells": [
  {
   "cell_type": "code",
   "execution_count": 14,
   "id": "3dfca67e-a191-4081-a065-fcf82b41254d",
   "metadata": {},
   "outputs": [],
   "source": [
    "import pandas as pd\n",
    "import matplotlib.pyplot as plt\n",
    "import numpy as np\n",
    "from matplotlib.ticker import AutoMinorLocator, MultipleLocator\n",
    "\n",
    "df = pd.read_csv(\"survey_results_public_file2.csv\")"
   ]
  },
  {
   "cell_type": "code",
   "execution_count": 15,
   "id": "b08c11e8-f243-4ff9-b2eb-169d4c323fb4",
   "metadata": {},
   "outputs": [
    {
     "data": {
      "text/html": [
       "<div>\n",
       "<style scoped>\n",
       "    .dataframe tbody tr th:only-of-type {\n",
       "        vertical-align: middle;\n",
       "    }\n",
       "\n",
       "    .dataframe tbody tr th {\n",
       "        vertical-align: top;\n",
       "    }\n",
       "\n",
       "    .dataframe thead th {\n",
       "        text-align: right;\n",
       "    }\n",
       "</style>\n",
       "<table border=\"1\" class=\"dataframe\">\n",
       "  <thead>\n",
       "    <tr style=\"text-align: right;\">\n",
       "      <th></th>\n",
       "      <th>ResponseId</th>\n",
       "      <th>Q120</th>\n",
       "      <th>MainBranch</th>\n",
       "      <th>Age</th>\n",
       "      <th>Employment</th>\n",
       "      <th>RemoteWork</th>\n",
       "      <th>CodingActivities</th>\n",
       "      <th>EdLevel</th>\n",
       "      <th>LearnCode</th>\n",
       "      <th>LearnCodeOnline</th>\n",
       "      <th>...</th>\n",
       "      <th>Frequency_1</th>\n",
       "      <th>Frequency_2</th>\n",
       "      <th>Frequency_3</th>\n",
       "      <th>TimeSearching</th>\n",
       "      <th>TimeAnswering</th>\n",
       "      <th>ProfessionalTech</th>\n",
       "      <th>Industry</th>\n",
       "      <th>SurveyLength</th>\n",
       "      <th>SurveyEase</th>\n",
       "      <th>ConvertedCompYearly</th>\n",
       "    </tr>\n",
       "  </thead>\n",
       "  <tbody>\n",
       "    <tr>\n",
       "      <th>0</th>\n",
       "      <td>1</td>\n",
       "      <td>I agree</td>\n",
       "      <td>None of these</td>\n",
       "      <td>18-24 years old</td>\n",
       "      <td>NaN</td>\n",
       "      <td>NaN</td>\n",
       "      <td>NaN</td>\n",
       "      <td>NaN</td>\n",
       "      <td>NaN</td>\n",
       "      <td>NaN</td>\n",
       "      <td>...</td>\n",
       "      <td>NaN</td>\n",
       "      <td>NaN</td>\n",
       "      <td>NaN</td>\n",
       "      <td>NaN</td>\n",
       "      <td>NaN</td>\n",
       "      <td>NaN</td>\n",
       "      <td>NaN</td>\n",
       "      <td>NaN</td>\n",
       "      <td>NaN</td>\n",
       "      <td>NaN</td>\n",
       "    </tr>\n",
       "    <tr>\n",
       "      <th>1</th>\n",
       "      <td>2</td>\n",
       "      <td>I agree</td>\n",
       "      <td>I am a developer by profession</td>\n",
       "      <td>25-34 years old</td>\n",
       "      <td>Employed, full-time</td>\n",
       "      <td>Remote</td>\n",
       "      <td>Hobby;Contribute to open-source projects;Boots...</td>\n",
       "      <td>Bachelor’s degree (B.A., B.S., B.Eng., etc.)</td>\n",
       "      <td>Books / Physical media;Colleague;Friend or fam...</td>\n",
       "      <td>Formal documentation provided by the owner of ...</td>\n",
       "      <td>...</td>\n",
       "      <td>1-2 times a week</td>\n",
       "      <td>10+ times a week</td>\n",
       "      <td>Never</td>\n",
       "      <td>15-30 minutes a day</td>\n",
       "      <td>15-30 minutes a day</td>\n",
       "      <td>DevOps function;Microservices;Automated testin...</td>\n",
       "      <td>Information Services, IT, Software Development...</td>\n",
       "      <td>Appropriate in length</td>\n",
       "      <td>Easy</td>\n",
       "      <td>285000.0</td>\n",
       "    </tr>\n",
       "    <tr>\n",
       "      <th>2</th>\n",
       "      <td>3</td>\n",
       "      <td>I agree</td>\n",
       "      <td>I am a developer by profession</td>\n",
       "      <td>45-54 years old</td>\n",
       "      <td>Employed, full-time</td>\n",
       "      <td>Hybrid (some remote, some in-person)</td>\n",
       "      <td>Hobby;Professional development or self-paced l...</td>\n",
       "      <td>Bachelor’s degree (B.A., B.S., B.Eng., etc.)</td>\n",
       "      <td>Books / Physical media;Colleague;On the job tr...</td>\n",
       "      <td>Formal documentation provided by the owner of ...</td>\n",
       "      <td>...</td>\n",
       "      <td>6-10 times a week</td>\n",
       "      <td>6-10 times a week</td>\n",
       "      <td>3-5 times a week</td>\n",
       "      <td>30-60 minutes a day</td>\n",
       "      <td>30-60 minutes a day</td>\n",
       "      <td>DevOps function;Microservices;Automated testin...</td>\n",
       "      <td>Information Services, IT, Software Development...</td>\n",
       "      <td>Appropriate in length</td>\n",
       "      <td>Easy</td>\n",
       "      <td>250000.0</td>\n",
       "    </tr>\n",
       "    <tr>\n",
       "      <th>3</th>\n",
       "      <td>4</td>\n",
       "      <td>I agree</td>\n",
       "      <td>I am a developer by profession</td>\n",
       "      <td>25-34 years old</td>\n",
       "      <td>Employed, full-time</td>\n",
       "      <td>Hybrid (some remote, some in-person)</td>\n",
       "      <td>Hobby</td>\n",
       "      <td>Bachelor’s degree (B.A., B.S., B.Eng., etc.)</td>\n",
       "      <td>Colleague;Friend or family member;Other online...</td>\n",
       "      <td>Formal documentation provided by the owner of ...</td>\n",
       "      <td>...</td>\n",
       "      <td>1-2 times a week</td>\n",
       "      <td>10+ times a week</td>\n",
       "      <td>1-2 times a week</td>\n",
       "      <td>15-30 minutes a day</td>\n",
       "      <td>30-60 minutes a day</td>\n",
       "      <td>Automated testing;Continuous integration (CI) ...</td>\n",
       "      <td>NaN</td>\n",
       "      <td>Appropriate in length</td>\n",
       "      <td>Easy</td>\n",
       "      <td>156000.0</td>\n",
       "    </tr>\n",
       "    <tr>\n",
       "      <th>4</th>\n",
       "      <td>5</td>\n",
       "      <td>I agree</td>\n",
       "      <td>I am a developer by profession</td>\n",
       "      <td>25-34 years old</td>\n",
       "      <td>Employed, full-time;Independent contractor, fr...</td>\n",
       "      <td>Remote</td>\n",
       "      <td>Hobby;Contribute to open-source projects;Profe...</td>\n",
       "      <td>Bachelor’s degree (B.A., B.S., B.Eng., etc.)</td>\n",
       "      <td>Books / Physical media;Online Courses or Certi...</td>\n",
       "      <td>Formal documentation provided by the owner of ...</td>\n",
       "      <td>...</td>\n",
       "      <td>1-2 times a week</td>\n",
       "      <td>1-2 times a week</td>\n",
       "      <td>3-5 times a week</td>\n",
       "      <td>60-120 minutes a day</td>\n",
       "      <td>30-60 minutes a day</td>\n",
       "      <td>Microservices;Automated testing;Observability ...</td>\n",
       "      <td>Other</td>\n",
       "      <td>Appropriate in length</td>\n",
       "      <td>Neither easy nor difficult</td>\n",
       "      <td>23456.0</td>\n",
       "    </tr>\n",
       "  </tbody>\n",
       "</table>\n",
       "<p>5 rows × 84 columns</p>\n",
       "</div>"
      ],
      "text/plain": [
       "   ResponseId     Q120                      MainBranch              Age  \\\n",
       "0           1  I agree                   None of these  18-24 years old   \n",
       "1           2  I agree  I am a developer by profession  25-34 years old   \n",
       "2           3  I agree  I am a developer by profession  45-54 years old   \n",
       "3           4  I agree  I am a developer by profession  25-34 years old   \n",
       "4           5  I agree  I am a developer by profession  25-34 years old   \n",
       "\n",
       "                                          Employment  \\\n",
       "0                                                NaN   \n",
       "1                                Employed, full-time   \n",
       "2                                Employed, full-time   \n",
       "3                                Employed, full-time   \n",
       "4  Employed, full-time;Independent contractor, fr...   \n",
       "\n",
       "                             RemoteWork  \\\n",
       "0                                   NaN   \n",
       "1                                Remote   \n",
       "2  Hybrid (some remote, some in-person)   \n",
       "3  Hybrid (some remote, some in-person)   \n",
       "4                                Remote   \n",
       "\n",
       "                                    CodingActivities  \\\n",
       "0                                                NaN   \n",
       "1  Hobby;Contribute to open-source projects;Boots...   \n",
       "2  Hobby;Professional development or self-paced l...   \n",
       "3                                              Hobby   \n",
       "4  Hobby;Contribute to open-source projects;Profe...   \n",
       "\n",
       "                                        EdLevel  \\\n",
       "0                                           NaN   \n",
       "1  Bachelor’s degree (B.A., B.S., B.Eng., etc.)   \n",
       "2  Bachelor’s degree (B.A., B.S., B.Eng., etc.)   \n",
       "3  Bachelor’s degree (B.A., B.S., B.Eng., etc.)   \n",
       "4  Bachelor’s degree (B.A., B.S., B.Eng., etc.)   \n",
       "\n",
       "                                           LearnCode  \\\n",
       "0                                                NaN   \n",
       "1  Books / Physical media;Colleague;Friend or fam...   \n",
       "2  Books / Physical media;Colleague;On the job tr...   \n",
       "3  Colleague;Friend or family member;Other online...   \n",
       "4  Books / Physical media;Online Courses or Certi...   \n",
       "\n",
       "                                     LearnCodeOnline  ...        Frequency_1  \\\n",
       "0                                                NaN  ...                NaN   \n",
       "1  Formal documentation provided by the owner of ...  ...   1-2 times a week   \n",
       "2  Formal documentation provided by the owner of ...  ...  6-10 times a week   \n",
       "3  Formal documentation provided by the owner of ...  ...   1-2 times a week   \n",
       "4  Formal documentation provided by the owner of ...  ...   1-2 times a week   \n",
       "\n",
       "         Frequency_2       Frequency_3         TimeSearching  \\\n",
       "0                NaN               NaN                   NaN   \n",
       "1   10+ times a week             Never   15-30 minutes a day   \n",
       "2  6-10 times a week  3-5 times a week   30-60 minutes a day   \n",
       "3   10+ times a week  1-2 times a week   15-30 minutes a day   \n",
       "4   1-2 times a week  3-5 times a week  60-120 minutes a day   \n",
       "\n",
       "         TimeAnswering                                   ProfessionalTech  \\\n",
       "0                  NaN                                                NaN   \n",
       "1  15-30 minutes a day  DevOps function;Microservices;Automated testin...   \n",
       "2  30-60 minutes a day  DevOps function;Microservices;Automated testin...   \n",
       "3  30-60 minutes a day  Automated testing;Continuous integration (CI) ...   \n",
       "4  30-60 minutes a day  Microservices;Automated testing;Observability ...   \n",
       "\n",
       "                                            Industry           SurveyLength  \\\n",
       "0                                                NaN                    NaN   \n",
       "1  Information Services, IT, Software Development...  Appropriate in length   \n",
       "2  Information Services, IT, Software Development...  Appropriate in length   \n",
       "3                                                NaN  Appropriate in length   \n",
       "4                                              Other  Appropriate in length   \n",
       "\n",
       "                   SurveyEase ConvertedCompYearly  \n",
       "0                         NaN                 NaN  \n",
       "1                        Easy            285000.0  \n",
       "2                        Easy            250000.0  \n",
       "3                        Easy            156000.0  \n",
       "4  Neither easy nor difficult             23456.0  \n",
       "\n",
       "[5 rows x 84 columns]"
      ]
     },
     "execution_count": 15,
     "metadata": {},
     "output_type": "execute_result"
    }
   ],
   "source": [
    "df.head()"
   ]
  },
  {
   "cell_type": "markdown",
   "id": "a942bd26-72cb-4c10-ba08-61768fdae7f5",
   "metadata": {},
   "source": [
    "# Data Cleaning"
   ]
  },
  {
   "cell_type": "code",
   "execution_count": 16,
   "id": "6a9eda32-c324-4f99-ab32-000bc598488c",
   "metadata": {},
   "outputs": [
    {
     "data": {
      "text/html": [
       "<div>\n",
       "<style scoped>\n",
       "    .dataframe tbody tr th:only-of-type {\n",
       "        vertical-align: middle;\n",
       "    }\n",
       "\n",
       "    .dataframe tbody tr th {\n",
       "        vertical-align: top;\n",
       "    }\n",
       "\n",
       "    .dataframe thead th {\n",
       "        text-align: right;\n",
       "    }\n",
       "</style>\n",
       "<table border=\"1\" class=\"dataframe\">\n",
       "  <thead>\n",
       "    <tr style=\"text-align: right;\">\n",
       "      <th></th>\n",
       "      <th>Country</th>\n",
       "      <th>EdLevel</th>\n",
       "      <th>YearsCodePro</th>\n",
       "      <th>Employment</th>\n",
       "      <th>Salary</th>\n",
       "    </tr>\n",
       "  </thead>\n",
       "  <tbody>\n",
       "    <tr>\n",
       "      <th>0</th>\n",
       "      <td>NaN</td>\n",
       "      <td>NaN</td>\n",
       "      <td>NaN</td>\n",
       "      <td>NaN</td>\n",
       "      <td>NaN</td>\n",
       "    </tr>\n",
       "    <tr>\n",
       "      <th>1</th>\n",
       "      <td>United States of America</td>\n",
       "      <td>Bachelor’s degree (B.A., B.S., B.Eng., etc.)</td>\n",
       "      <td>9</td>\n",
       "      <td>Employed, full-time</td>\n",
       "      <td>285000.0</td>\n",
       "    </tr>\n",
       "    <tr>\n",
       "      <th>2</th>\n",
       "      <td>United States of America</td>\n",
       "      <td>Bachelor’s degree (B.A., B.S., B.Eng., etc.)</td>\n",
       "      <td>23</td>\n",
       "      <td>Employed, full-time</td>\n",
       "      <td>250000.0</td>\n",
       "    </tr>\n",
       "    <tr>\n",
       "      <th>3</th>\n",
       "      <td>United States of America</td>\n",
       "      <td>Bachelor’s degree (B.A., B.S., B.Eng., etc.)</td>\n",
       "      <td>7</td>\n",
       "      <td>Employed, full-time</td>\n",
       "      <td>156000.0</td>\n",
       "    </tr>\n",
       "    <tr>\n",
       "      <th>4</th>\n",
       "      <td>Philippines</td>\n",
       "      <td>Bachelor’s degree (B.A., B.S., B.Eng., etc.)</td>\n",
       "      <td>4</td>\n",
       "      <td>Employed, full-time;Independent contractor, fr...</td>\n",
       "      <td>23456.0</td>\n",
       "    </tr>\n",
       "  </tbody>\n",
       "</table>\n",
       "</div>"
      ],
      "text/plain": [
       "                    Country                                       EdLevel  \\\n",
       "0                       NaN                                           NaN   \n",
       "1  United States of America  Bachelor’s degree (B.A., B.S., B.Eng., etc.)   \n",
       "2  United States of America  Bachelor’s degree (B.A., B.S., B.Eng., etc.)   \n",
       "3  United States of America  Bachelor’s degree (B.A., B.S., B.Eng., etc.)   \n",
       "4               Philippines  Bachelor’s degree (B.A., B.S., B.Eng., etc.)   \n",
       "\n",
       "  YearsCodePro                                         Employment    Salary  \n",
       "0          NaN                                                NaN       NaN  \n",
       "1            9                                Employed, full-time  285000.0  \n",
       "2           23                                Employed, full-time  250000.0  \n",
       "3            7                                Employed, full-time  156000.0  \n",
       "4            4  Employed, full-time;Independent contractor, fr...   23456.0  "
      ]
     },
     "execution_count": 16,
     "metadata": {},
     "output_type": "execute_result"
    }
   ],
   "source": [
    "df = df[[\"Country\", \"EdLevel\", \"YearsCodePro\", \"Employment\", \"ConvertedCompYearly\"]]\n",
    "df = df.rename({\"ConvertedCompYearly\": \"Salary\"}, axis=1)\n",
    "df.head()"
   ]
  },
  {
   "cell_type": "code",
   "execution_count": 17,
   "id": "7fec6549-634a-4720-bb24-a7a3ebf57b72",
   "metadata": {},
   "outputs": [
    {
     "data": {
      "text/plain": [
       "<bound method DataFrame.info of                             Country  \\\n",
       "0                               NaN   \n",
       "1          United States of America   \n",
       "2          United States of America   \n",
       "3          United States of America   \n",
       "4                       Philippines   \n",
       "...                             ...   \n",
       "89179                        Brazil   \n",
       "89180                       Romania   \n",
       "89181                        Israel   \n",
       "89182                   Switzerland   \n",
       "89183  Iran, Islamic Republic of...   \n",
       "\n",
       "                                                 EdLevel YearsCodePro  \\\n",
       "0                                                    NaN          NaN   \n",
       "1           Bachelor’s degree (B.A., B.S., B.Eng., etc.)            9   \n",
       "2           Bachelor’s degree (B.A., B.S., B.Eng., etc.)           23   \n",
       "3           Bachelor’s degree (B.A., B.S., B.Eng., etc.)            7   \n",
       "4           Bachelor’s degree (B.A., B.S., B.Eng., etc.)            4   \n",
       "...                                                  ...          ...   \n",
       "89179                Associate degree (A.A., A.S., etc.)            5   \n",
       "89180       Bachelor’s degree (B.A., B.S., B.Eng., etc.)          NaN   \n",
       "89181                                     Something else          NaN   \n",
       "89182  Secondary school (e.g. American high school, G...          NaN   \n",
       "89183       Bachelor’s degree (B.A., B.S., B.Eng., etc.)           12   \n",
       "\n",
       "                                              Employment    Salary  \n",
       "0                                                    NaN       NaN  \n",
       "1                                    Employed, full-time  285000.0  \n",
       "2                                    Employed, full-time  250000.0  \n",
       "3                                    Employed, full-time  156000.0  \n",
       "4      Employed, full-time;Independent contractor, fr...   23456.0  \n",
       "...                                                  ...       ...  \n",
       "89179  Employed, full-time;Independent contractor, fr...       NaN  \n",
       "89180             Student, full-time;Employed, part-time       NaN  \n",
       "89181                                I prefer not to say       NaN  \n",
       "89182             Employed, part-time;Student, part-time       NaN  \n",
       "89183                                Employed, full-time       NaN  \n",
       "\n",
       "[89184 rows x 5 columns]>"
      ]
     },
     "execution_count": 17,
     "metadata": {},
     "output_type": "execute_result"
    }
   ],
   "source": [
    "df.info"
   ]
  },
  {
   "cell_type": "code",
   "execution_count": 18,
   "id": "50e14d89-bb4c-429b-8726-eceae50deea8",
   "metadata": {},
   "outputs": [
    {
     "data": {
      "text/plain": [
       "Country         0\n",
       "EdLevel         0\n",
       "YearsCodePro    0\n",
       "Employment      0\n",
       "Salary          0\n",
       "dtype: int64"
      ]
     },
     "execution_count": 18,
     "metadata": {},
     "output_type": "execute_result"
    }
   ],
   "source": [
    "df = df.dropna()\n",
    "df.isnull().sum()"
   ]
  },
  {
   "cell_type": "code",
   "execution_count": 19,
   "id": "a9faf6f4-eda4-4354-8fce-fdb2d87b9815",
   "metadata": {},
   "outputs": [
    {
     "data": {
      "text/plain": [
       "Country\n",
       "United States of America                                11846\n",
       "Germany                                                  3947\n",
       "United Kingdom of Great Britain and Northern Ireland     3521\n",
       "Canada                                                   2095\n",
       "India                                                    1849\n",
       "                                                        ...  \n",
       "Guinea-Bissau                                               1\n",
       "Mauritania                                                  1\n",
       "Botswana                                                    1\n",
       "Guyana                                                      1\n",
       "Antigua and Barbuda                                         1\n",
       "Name: count, Length: 171, dtype: int64"
      ]
     },
     "execution_count": 19,
     "metadata": {},
     "output_type": "execute_result"
    }
   ],
   "source": [
    "df['Country'].value_counts()"
   ]
  },
  {
   "cell_type": "code",
   "execution_count": 20,
   "id": "6bd67033-da88-4099-ae74-0472d5edd31f",
   "metadata": {},
   "outputs": [],
   "source": [
    "# Testing how maps works\n",
    "\n",
    "# c_map = {}\n",
    "# c_map[df.Country.value_counts().index[0]] = 'Other'\n",
    "# # c_map[df.Country.value_counts().index[1]] = 'Other'\n",
    "# # c_map[df.Country.value_counts().index[2]] = 'Other'\n",
    "# # c_map\n",
    "\n",
    "# # c_map\n",
    "# df['Country'].map(c_map)"
   ]
  },
  {
   "cell_type": "code",
   "execution_count": 21,
   "id": "469538c9-4369-4f5e-8ef1-fdfc8d0a06e2",
   "metadata": {},
   "outputs": [],
   "source": [
    "def shorten_categories(categories, cutoff):\n",
    "    \"\"\"\n",
    "    discard the data whose category has fewer than <cutoff> number of data\n",
    "    \"\"\"\n",
    "    categorical_map = {}\n",
    "    for i in range(len(categories)):\n",
    "        if categories.values[i] >= cutoff:\n",
    "            categorical_map[categories.index[i]] = categories.index[i]\n",
    "        else:\n",
    "            categorical_map[categories.index[i]] = 'Other'\n",
    "    return categorical_map"
   ]
  },
  {
   "cell_type": "code",
   "execution_count": 22,
   "id": "472393d8-0dab-4c80-ac9d-c00c6bb11ccb",
   "metadata": {},
   "outputs": [
    {
     "name": "stderr",
     "output_type": "stream",
     "text": [
      "C:\\Users\\aaron\\AppData\\Local\\Temp\\ipykernel_8740\\1824056870.py:2: SettingWithCopyWarning: \n",
      "A value is trying to be set on a copy of a slice from a DataFrame.\n",
      "Try using .loc[row_indexer,col_indexer] = value instead\n",
      "\n",
      "See the caveats in the documentation: https://pandas.pydata.org/pandas-docs/stable/user_guide/indexing.html#returning-a-view-versus-a-copy\n",
      "  df['Country'] = df['Country'].map(country_map)\n"
     ]
    },
    {
     "data": {
      "text/plain": [
       "Country\n",
       "United States of America                                11846\n",
       "Other                                                    8307\n",
       "Germany                                                  3947\n",
       "United Kingdom of Great Britain and Northern Ireland     3521\n",
       "Canada                                                   2095\n",
       "India                                                    1849\n",
       "France                                                   1793\n",
       "Netherlands                                              1359\n",
       "Poland                                                   1265\n",
       "Brazil                                                   1249\n",
       "Australia                                                1206\n",
       "Spain                                                    1142\n",
       "Sweden                                                   1055\n",
       "Italy                                                    1009\n",
       "Switzerland                                               659\n",
       "Austria                                                   531\n",
       "Denmark                                                   515\n",
       "Czech Republic                                            492\n",
       "Norway                                                    484\n",
       "Portugal                                                  477\n",
       "Israel                                                    469\n",
       "Belgium                                                   445\n",
       "Finland                                                   440\n",
       "Russian Federation                                        424\n",
       "Ukraine                                                   417\n",
       "New Zealand                                               412\n",
       "Romania                                                   405\n",
       "Name: count, dtype: int64"
      ]
     },
     "execution_count": 22,
     "metadata": {},
     "output_type": "execute_result"
    }
   ],
   "source": [
    "country_map = shorten_categories(df.Country.value_counts(), 400)\n",
    "df['Country'] = df['Country'].map(country_map)\n",
    "df.Country.value_counts()"
   ]
  },
  {
   "cell_type": "code",
   "execution_count": 23,
   "id": "38ae36ae-b53c-49be-8448-091a8e002365",
   "metadata": {},
   "outputs": [
    {
     "data": {
      "image/png": "[encoded data removed]",
      "text/plain": [
       "<Figure size 1200x700 with 1 Axes>"
      ]
     },
     "metadata": {},
     "output_type": "display_data"
    }
   ],
   "source": [
    "# inspect the salary range\n",
    "\n",
    "fig, ax = plt.subplots(1, 1, figsize=(12, 7))\n",
    "df.boxplot('Salary', 'Country', ax=ax)\n",
    "plt.suptitle('Salary (USD) vs Country')\n",
    "plt.title('')\n",
    "plt.ylabel('Salary')\n",
    "plt.xticks(rotation=90)\n",
    "\n",
    "plt.show()"
   ]
  },
  {
   "cell_type": "code",
   "execution_count": 24,
   "id": "828b3db6-edc2-470a-89a2-635d45fa3b94",
   "metadata": {},
   "outputs": [
    {
     "data": {
      "image/png": "[encoded data removed]",
      "text/plain": [
       "<Figure size 1200x700 with 1 Axes>"
      ]
     },
     "metadata": {},
     "output_type": "display_data"
    }
   ],
   "source": [
    "fig, ax = plt.subplots(1, 1, figsize=(12, 7))\n",
    "df.boxplot('Salary', 'Country', ax=ax)\n",
    "plt.suptitle('Salary (USD) vs Country')\n",
    "plt.title('')\n",
    "plt.ylabel('Salary')\n",
    "plt.xticks(rotation=90)\n",
    "\n",
    "ax.yaxis.set_major_locator(MultipleLocator(250000))\n",
    "ax.yaxis.set_minor_locator(AutoMinorLocator(25))\n",
    "plt.ylim(0, 1000000)\n",
    "plt.show()"
   ]
  },
  {
   "cell_type": "code",
   "execution_count": 25,
   "id": "c8b6672d-1180-460c-b1af-b4b2281634a5",
   "metadata": {},
   "outputs": [],
   "source": [
    "df = df[df['Salary'] <= 250000]\n",
    "df = df[df['Salary'] >= 5000]\n",
    "df = df[df['Country'] != 'Other']"
   ]
  },
  {
   "cell_type": "code",
   "execution_count": 26,
   "id": "53a3b64b-61c5-48fe-b69a-0f0fd5886284",
   "metadata": {},
   "outputs": [
    {
     "data": {
      "text/plain": [
       "array(['23', '7', '21', '3', '15', '9', 'Less than 1 year', '10', '2',\n",
       "       '6', '14', '5', '19', '13', '16', '28', '30', '24', '40', '4',\n",
       "       '25', '12', '20', '11', '8', '18', '50', '27', '17', '43', '26',\n",
       "       '1', '38', '33', '29', '22', '31', '34', '37', '42',\n",
       "       'More than 50 years', '36', '39', '35', '41', '32', '44', '48',\n",
       "       '45', '46', '47', '49'], dtype=object)"
      ]
     },
     "execution_count": 26,
     "metadata": {},
     "output_type": "execute_result"
    }
   ],
   "source": [
    "# cleaning experience data: YearsCodePro\n",
    "df['YearsCodePro'].unique()"
   ]
  },
  {
   "cell_type": "code",
   "execution_count": 27,
   "id": "36e8c12f-d277-4ee6-9f32-6775be0a35b8",
   "metadata": {},
   "outputs": [],
   "source": [
    "def clean_experience(x):\n",
    "    if x == 'More than 50 years':\n",
    "        return 50.0\n",
    "    if x == 'Less than 1 year':\n",
    "        return 0.5\n",
    "    return float(x)\n",
    "\n",
    "df['YearsCodePro'] = df['YearsCodePro'].apply(clean_experience)"
   ]
  },
  {
   "cell_type": "code",
   "execution_count": 28,
   "id": "1d4feeb7-00b8-42e2-a00b-ba5765391f32",
   "metadata": {},
   "outputs": [
    {
     "data": {
      "text/plain": [
       "array([23. ,  7. , 21. ,  3. , 15. ,  9. ,  0.5, 10. ,  2. ,  6. , 14. ,\n",
       "        5. , 19. , 13. , 16. , 28. , 30. , 24. , 40. ,  4. , 25. , 12. ,\n",
       "       20. , 11. ,  8. , 18. , 50. , 27. , 17. , 43. , 26. ,  1. , 38. ,\n",
       "       33. , 29. , 22. , 31. , 34. , 37. , 42. , 36. , 39. , 35. , 41. ,\n",
       "       32. , 44. , 48. , 45. , 46. , 47. , 49. ])"
      ]
     },
     "execution_count": 28,
     "metadata": {},
     "output_type": "execute_result"
    }
   ],
   "source": [
    "df['YearsCodePro'].unique()"
   ]
  },
  {
   "cell_type": "code",
   "execution_count": 29,
   "id": "2c2a83e6-1dc3-4507-b0e1-49066775dcb3",
   "metadata": {},
   "outputs": [
    {
     "data": {
      "text/plain": [
       "array(['Bachelor’s degree (B.A., B.S., B.Eng., etc.)',\n",
       "       'Some college/university study without earning a degree',\n",
       "       'Master’s degree (M.A., M.S., M.Eng., MBA, etc.)',\n",
       "       'Professional degree (JD, MD, Ph.D, Ed.D, etc.)',\n",
       "       'Associate degree (A.A., A.S., etc.)',\n",
       "       'Secondary school (e.g. American high school, German Realschule or Gymnasium, etc.)',\n",
       "       'Primary/elementary school', 'Something else'], dtype=object)"
      ]
     },
     "execution_count": 29,
     "metadata": {},
     "output_type": "execute_result"
    }
   ],
   "source": [
    "df['EdLevel'].unique()"
   ]
  },
  {
   "cell_type": "code",
   "execution_count": 30,
   "id": "8f030bdc-0957-4c0c-802c-0f29d295d9ed",
   "metadata": {},
   "outputs": [],
   "source": [
    "def clean_education(x):\n",
    "    if 'Bachelor’s degree' in x:\n",
    "        return 'Bachelor’s degree'\n",
    "    if 'Master’s degree' in x:\n",
    "        return 'Master’s degree'\n",
    "    if 'Professional degree' in x:\n",
    "        return 'Post grad'\n",
    "    return 'Less than Bechelors'\n",
    "df['EdLevel'] = df['EdLevel'].apply(clean_education)"
   ]
  },
  {
   "cell_type": "code",
   "execution_count": 31,
   "id": "984ae30b-8cda-479e-b59a-3d3ba0b76df6",
   "metadata": {},
   "outputs": [
    {
     "data": {
      "text/plain": [
       "array(['Bachelor’s degree', 'Less than Bechelors', 'Master’s degree',\n",
       "       'Post grad'], dtype=object)"
      ]
     },
     "execution_count": 31,
     "metadata": {},
     "output_type": "execute_result"
    }
   ],
   "source": [
    "df['EdLevel'].unique()"
   ]
  },
  {
   "cell_type": "code",
   "execution_count": 32,
   "id": "53bce5d6-4450-4ff5-9ed2-b48415d8bb8a",
   "metadata": {},
   "outputs": [
    {
     "data": {
      "text/plain": [
       "array([0, 1, 2, 3])"
      ]
     },
     "execution_count": 32,
     "metadata": {},
     "output_type": "execute_result"
    }
   ],
   "source": [
    "# Model cannot understand string\n",
    "# convert strings to a unique number\n",
    "\n",
    "from sklearn.preprocessing import LabelEncoder\n",
    "le_education = LabelEncoder()\n",
    "df['EdLevel'] = le_education.fit_transform(df['EdLevel'])\n",
    "df['EdLevel'].unique()"
   ]
  },
  {
   "cell_type": "code",
   "execution_count": 33,
   "id": "5001afdd-b24f-4f1c-9dfe-e1dec0569439",
   "metadata": {},
   "outputs": [
    {
     "data": {
      "text/plain": [
       "array([25, 24,  7,  0, 13,  9, 21,  8, 20,  3, 17, 12,  4, 22, 10,  1, 15,\n",
       "       19, 16,  2,  6, 11, 23,  5, 18, 14])"
      ]
     },
     "execution_count": 33,
     "metadata": {},
     "output_type": "execute_result"
    }
   ],
   "source": [
    "le_country = LabelEncoder()\n",
    "df['Country'] = le_country.fit_transform(df['Country'])\n",
    "df['Country'].unique()"
   ]
  },
  {
   "cell_type": "code",
   "execution_count": 34,
   "id": "19619b96",
   "metadata": {},
   "outputs": [
    {
     "data": {
      "text/plain": [
       "array(['Employed, full-time',\n",
       "       'Independent contractor, freelancer, or self-employed',\n",
       "       'Employed, part-time',\n",
       "       'Employed, full-time;Independent contractor, freelancer, or self-employed',\n",
       "       'Retired',\n",
       "       'Independent contractor, freelancer, or self-employed;Employed, part-time',\n",
       "       'Employed, full-time;Independent contractor, freelancer, or self-employed;Employed, part-time',\n",
       "       'Employed, full-time;Employed, part-time', 'I prefer not to say',\n",
       "       'Independent contractor, freelancer, or self-employed;Retired',\n",
       "       'Employed, full-time;Retired', 'Employed, part-time;Retired',\n",
       "       'Employed, full-time;Independent contractor, freelancer, or self-employed;Retired'],\n",
       "      dtype=object)"
      ]
     },
     "execution_count": 34,
     "metadata": {},
     "output_type": "execute_result"
    }
   ],
   "source": [
    "df['Employment'].unique()"
   ]
  },
  {
   "cell_type": "code",
   "execution_count": 35,
   "id": "f8cb78aa",
   "metadata": {},
   "outputs": [],
   "source": [
    "# This can be improved into more detailed categories.\n",
    "\n",
    "def clean_employment(x):\n",
    "    if 'Employed' in x:\n",
    "        return 'Employed'\n",
    "    if 'Independent' in x:\n",
    "        return 'Independent'\n",
    "    return 'Other'\n",
    "df['Employment'] = df['Employment'].apply(clean_employment)"
   ]
  },
  {
   "cell_type": "code",
   "execution_count": 36,
   "id": "482b3c87",
   "metadata": {},
   "outputs": [
    {
     "data": {
      "text/plain": [
       "array(['Employed', 'Independent', 'Other'], dtype=object)"
      ]
     },
     "execution_count": 36,
     "metadata": {},
     "output_type": "execute_result"
    }
   ],
   "source": [
    "df.Employment.unique()"
   ]
  },
  {
   "cell_type": "code",
   "execution_count": 37,
   "id": "45ed8ea6",
   "metadata": {},
   "outputs": [
    {
     "data": {
      "text/plain": [
       "array([0, 1, 2])"
      ]
     },
     "execution_count": 37,
     "metadata": {},
     "output_type": "execute_result"
    }
   ],
   "source": [
    "le_employment = LabelEncoder()\n",
    "df['Employment'] = le_employment.fit_transform(df['Employment'])\n",
    "df['Employment'].unique()"
   ]
  },
  {
   "cell_type": "markdown",
   "id": "ad20a8a5",
   "metadata": {},
   "source": [
    "# Model Training\n",
    "Should split data into training and testing, but use all data for nowfor simplicity"
   ]
  },
  {
   "cell_type": "code",
   "execution_count": 38,
   "id": "af4028c6-47f9-4419-81b4-ae224c8cdff3",
   "metadata": {},
   "outputs": [],
   "source": [
    "X = df.drop('Salary', axis=1)\n",
    "y = df['Salary']"
   ]
  },
  {
   "cell_type": "code",
   "execution_count": 39,
   "id": "4e99f4ba",
   "metadata": {},
   "outputs": [
    {
     "name": "stdout",
     "output_type": "stream",
     "text": [
      "$46,960.99\n"
     ]
    }
   ],
   "source": [
    "from sklearn.linear_model import LinearRegression\n",
    "from sklearn.metrics import mean_squared_error, mean_absolute_error\n",
    "\n",
    "linear_reg = LinearRegression()\n",
    "linear_reg.fit(X, y.values)\n",
    "y_pred = linear_reg.predict(X)\n",
    "\n",
    "error = np.sqrt(mean_squared_error(y, y_pred))\n",
    "print('${:,.02f}'.format(error))"
   ]
  },
  {
   "cell_type": "code",
   "execution_count": 40,
   "id": "2bf0b37c",
   "metadata": {},
   "outputs": [
    {
     "name": "stdout",
     "output_type": "stream",
     "text": [
      "$33,154.41\n"
     ]
    }
   ],
   "source": [
    "from sklearn.tree import DecisionTreeRegressor\n",
    "dec_tree_reg = DecisionTreeRegressor(random_state=0)\n",
    "dec_tree_reg.fit(X, y.values)\n",
    "y_pred = dec_tree_reg.predict(X)\n",
    "\n",
    "error = np.sqrt(mean_squared_error(y, y_pred))\n",
    "print('${:,.02f}'.format(error))\n",
    "\n",
    "# can adjust parameters such as max_depth"
   ]
  },
  {
   "cell_type": "code",
   "execution_count": 41,
   "id": "2f1b12c2",
   "metadata": {},
   "outputs": [
    {
     "name": "stdout",
     "output_type": "stream",
     "text": [
      "$33,398.75\n"
     ]
    }
   ],
   "source": [
    "from sklearn.ensemble import RandomForestRegressor\n",
    "random_forest_reg = RandomForestRegressor(random_state=0)\n",
    "random_forest_reg.fit(X, y.values)\n",
    "y_pred = random_forest_reg.predict(X)\n",
    "\n",
    "error = np.sqrt(mean_squared_error(y, y_pred))\n",
    "print('${:,.02f}'.format(error))"
   ]
  },
  {
   "cell_type": "code",
   "execution_count": 42,
   "id": "297ff268",
   "metadata": {},
   "outputs": [
    {
     "data": {
      "text/html": [
       "<style>#sk-container-id-1 {color: black;}#sk-container-id-1 pre{padding: 0;}#sk-container-id-1 div.sk-toggleable {background-color: white;}#sk-container-id-1 label.sk-toggleable__label {cursor: pointer;display: block;width: 100%;margin-bottom: 0;padding: 0.3em;box-sizing: border-box;text-align: center;}#sk-container-id-1 label.sk-toggleable__label-arrow:before {content: \"▸\";float: left;margin-right: 0.25em;color: #696969;}#sk-container-id-1 label.sk-toggleable__label-arrow:hover:before {color: black;}#sk-container-id-1 div.sk-estimator:hover label.sk-toggleable__label-arrow:before {color: black;}#sk-container-id-1 div.sk-toggleable__content {max-height: 0;max-width: 0;overflow: hidden;text-align: left;background-color: #f0f8ff;}#sk-container-id-1 div.sk-toggleable__content pre {margin: 0.2em;color: black;border-radius: 0.25em;background-color: #f0f8ff;}#sk-container-id-1 input.sk-toggleable__control:checked~div.sk-toggleable__content {max-height: 200px;max-width: 100%;overflow: auto;}#sk-container-id-1 input.sk-toggleable__control:checked~label.sk-toggleable__label-arrow:before {content: \"▾\";}#sk-container-id-1 div.sk-estimator input.sk-toggleable__control:checked~label.sk-toggleable__label {background-color: #d4ebff;}#sk-container-id-1 div.sk-label input.sk-toggleable__control:checked~label.sk-toggleable__label {background-color: #d4ebff;}#sk-container-id-1 input.sk-hidden--visually {border: 0;clip: rect(1px 1px 1px 1px);clip: rect(1px, 1px, 1px, 1px);height: 1px;margin: -1px;overflow: hidden;padding: 0;position: absolute;width: 1px;}#sk-container-id-1 div.sk-estimator {font-family: monospace;background-color: #f0f8ff;border: 1px dotted black;border-radius: 0.25em;box-sizing: border-box;margin-bottom: 0.5em;}#sk-container-id-1 div.sk-estimator:hover {background-color: #d4ebff;}#sk-container-id-1 div.sk-parallel-item::after {content: \"\";width: 100%;border-bottom: 1px solid gray;flex-grow: 1;}#sk-container-id-1 div.sk-label:hover label.sk-toggleable__label {background-color: #d4ebff;}#sk-container-id-1 div.sk-serial::before {content: \"\";position: absolute;border-left: 1px solid gray;box-sizing: border-box;top: 0;bottom: 0;left: 50%;z-index: 0;}#sk-container-id-1 div.sk-serial {display: flex;flex-direction: column;align-items: center;background-color: white;padding-right: 0.2em;padding-left: 0.2em;position: relative;}#sk-container-id-1 div.sk-item {position: relative;z-index: 1;}#sk-container-id-1 div.sk-parallel {display: flex;align-items: stretch;justify-content: center;background-color: white;position: relative;}#sk-container-id-1 div.sk-item::before, #sk-container-id-1 div.sk-parallel-item::before {content: \"\";position: absolute;border-left: 1px solid gray;box-sizing: border-box;top: 0;bottom: 0;left: 50%;z-index: -1;}#sk-container-id-1 div.sk-parallel-item {display: flex;flex-direction: column;z-index: 1;position: relative;background-color: white;}#sk-container-id-1 div.sk-parallel-item:first-child::after {align-self: flex-end;width: 50%;}#sk-container-id-1 div.sk-parallel-item:last-child::after {align-self: flex-start;width: 50%;}#sk-container-id-1 div.sk-parallel-item:only-child::after {width: 0;}#sk-container-id-1 div.sk-dashed-wrapped {border: 1px dashed gray;margin: 0 0.4em 0.5em 0.4em;box-sizing: border-box;padding-bottom: 0.4em;background-color: white;}#sk-container-id-1 div.sk-label label {font-family: monospace;font-weight: bold;display: inline-block;line-height: 1.2em;}#sk-container-id-1 div.sk-label-container {text-align: center;}#sk-container-id-1 div.sk-container {/* jupyter's `normalize.less` sets `[hidden] { display: none; }` but bootstrap.min.css set `[hidden] { display: none !important; }` so we also need the `!important` here to be able to override the default hidden behavior on the sphinx rendered scikit-learn.org. See: https://github.com/scikit-learn/scikit-learn/issues/21755 */display: inline-block !important;position: relative;}#sk-container-id-1 div.sk-text-repr-fallback {display: none;}</style><div id=\"sk-container-id-1\" class=\"sk-top-container\"><div class=\"sk-text-repr-fallback\"><pre>GridSearchCV(estimator=DecisionTreeRegressor(random_state=0),\n",
       "             param_grid={&#x27;max_depth&#x27;: [None, 2, 4, 6, 8, 10, 12]},\n",
       "             scoring=&#x27;neg_mean_squared_error&#x27;)</pre><b>In a Jupyter environment, please rerun this cell to show the HTML representation or trust the notebook. <br />On GitHub, the HTML representation is unable to render, please try loading this page with nbviewer.org.</b></div><div class=\"sk-container\" hidden><div class=\"sk-item sk-dashed-wrapped\"><div class=\"sk-label-container\"><div class=\"sk-label sk-toggleable\"><input class=\"sk-toggleable__control sk-hidden--visually\" id=\"sk-estimator-id-1\" type=\"checkbox\" ><label for=\"sk-estimator-id-1\" class=\"sk-toggleable__label sk-toggleable__label-arrow\">GridSearchCV</label><div class=\"sk-toggleable__content\"><pre>GridSearchCV(estimator=DecisionTreeRegressor(random_state=0),\n",
       "             param_grid={&#x27;max_depth&#x27;: [None, 2, 4, 6, 8, 10, 12]},\n",
       "             scoring=&#x27;neg_mean_squared_error&#x27;)</pre></div></div></div><div class=\"sk-parallel\"><div class=\"sk-parallel-item\"><div class=\"sk-item\"><div class=\"sk-label-container\"><div class=\"sk-label sk-toggleable\"><input class=\"sk-toggleable__control sk-hidden--visually\" id=\"sk-estimator-id-2\" type=\"checkbox\" ><label for=\"sk-estimator-id-2\" class=\"sk-toggleable__label sk-toggleable__label-arrow\">estimator: DecisionTreeRegressor</label><div class=\"sk-toggleable__content\"><pre>DecisionTreeRegressor(random_state=0)</pre></div></div></div><div class=\"sk-serial\"><div class=\"sk-item\"><div class=\"sk-estimator sk-toggleable\"><input class=\"sk-toggleable__control sk-hidden--visually\" id=\"sk-estimator-id-3\" type=\"checkbox\" ><label for=\"sk-estimator-id-3\" class=\"sk-toggleable__label sk-toggleable__label-arrow\">DecisionTreeRegressor</label><div class=\"sk-toggleable__content\"><pre>DecisionTreeRegressor(random_state=0)</pre></div></div></div></div></div></div></div></div></div></div>"
      ],
      "text/plain": [
       "GridSearchCV(estimator=DecisionTreeRegressor(random_state=0),\n",
       "             param_grid={'max_depth': [None, 2, 4, 6, 8, 10, 12]},\n",
       "             scoring='neg_mean_squared_error')"
      ]
     },
     "execution_count": 42,
     "metadata": {},
     "output_type": "execute_result"
    }
   ],
   "source": [
    "from sklearn.model_selection import GridSearchCV\n",
    "\n",
    "# loop over different parameters\n",
    "\n",
    "max_depth = [None, 2, 4, 6, 8, 10, 12]\n",
    "parameters = {'max_depth': max_depth}\n",
    "\n",
    "regressor = DecisionTreeRegressor(random_state=0)\n",
    "gs = GridSearchCV(regressor, parameters, scoring='neg_mean_squared_error')\n",
    "gs.fit(X, y.values)"
   ]
  },
  {
   "cell_type": "code",
   "execution_count": 43,
   "id": "b2738e9a",
   "metadata": {},
   "outputs": [
    {
     "name": "stdout",
     "output_type": "stream",
     "text": [
      "$35,582.41\n"
     ]
    }
   ],
   "source": [
    "regressor = gs.best_estimator_\n",
    "\n",
    "regressor.fit(X, y.values)\n",
    "y_pred = regressor.predict(X)\n",
    "\n",
    "# Note that RandomForest has a random state, so the outcome might not be the best\n",
    "\n",
    "error = np.sqrt(mean_squared_error(y, y_pred))\n",
    "print('${:,.02f}'.format(error))"
   ]
  },
  {
   "cell_type": "code",
   "execution_count": 44,
   "id": "81f8698e",
   "metadata": {
    "scrolled": true
   },
   "outputs": [
    {
     "data": {
      "text/html": [
       "<div>\n",
       "<style scoped>\n",
       "    .dataframe tbody tr th:only-of-type {\n",
       "        vertical-align: middle;\n",
       "    }\n",
       "\n",
       "    .dataframe tbody tr th {\n",
       "        vertical-align: top;\n",
       "    }\n",
       "\n",
       "    .dataframe thead th {\n",
       "        text-align: right;\n",
       "    }\n",
       "</style>\n",
       "<table border=\"1\" class=\"dataframe\">\n",
       "  <thead>\n",
       "    <tr style=\"text-align: right;\">\n",
       "      <th></th>\n",
       "      <th>Country</th>\n",
       "      <th>EdLevel</th>\n",
       "      <th>YearsCodePro</th>\n",
       "      <th>Employment</th>\n",
       "    </tr>\n",
       "  </thead>\n",
       "  <tbody>\n",
       "    <tr>\n",
       "      <th>2</th>\n",
       "      <td>25</td>\n",
       "      <td>0</td>\n",
       "      <td>23.0</td>\n",
       "      <td>0</td>\n",
       "    </tr>\n",
       "    <tr>\n",
       "      <th>3</th>\n",
       "      <td>25</td>\n",
       "      <td>0</td>\n",
       "      <td>7.0</td>\n",
       "      <td>0</td>\n",
       "    </tr>\n",
       "    <tr>\n",
       "      <th>5</th>\n",
       "      <td>24</td>\n",
       "      <td>1</td>\n",
       "      <td>21.0</td>\n",
       "      <td>0</td>\n",
       "    </tr>\n",
       "    <tr>\n",
       "      <th>6</th>\n",
       "      <td>25</td>\n",
       "      <td>1</td>\n",
       "      <td>3.0</td>\n",
       "      <td>0</td>\n",
       "    </tr>\n",
       "    <tr>\n",
       "      <th>7</th>\n",
       "      <td>25</td>\n",
       "      <td>0</td>\n",
       "      <td>3.0</td>\n",
       "      <td>0</td>\n",
       "    </tr>\n",
       "    <tr>\n",
       "      <th>...</th>\n",
       "      <td>...</td>\n",
       "      <td>...</td>\n",
       "      <td>...</td>\n",
       "      <td>...</td>\n",
       "    </tr>\n",
       "    <tr>\n",
       "      <th>89156</th>\n",
       "      <td>25</td>\n",
       "      <td>0</td>\n",
       "      <td>8.0</td>\n",
       "      <td>0</td>\n",
       "    </tr>\n",
       "    <tr>\n",
       "      <th>89158</th>\n",
       "      <td>21</td>\n",
       "      <td>0</td>\n",
       "      <td>8.0</td>\n",
       "      <td>0</td>\n",
       "    </tr>\n",
       "    <tr>\n",
       "      <th>89162</th>\n",
       "      <td>3</td>\n",
       "      <td>2</td>\n",
       "      <td>24.0</td>\n",
       "      <td>0</td>\n",
       "    </tr>\n",
       "    <tr>\n",
       "      <th>89167</th>\n",
       "      <td>10</td>\n",
       "      <td>0</td>\n",
       "      <td>2.0</td>\n",
       "      <td>0</td>\n",
       "    </tr>\n",
       "    <tr>\n",
       "      <th>89170</th>\n",
       "      <td>8</td>\n",
       "      <td>2</td>\n",
       "      <td>9.0</td>\n",
       "      <td>0</td>\n",
       "    </tr>\n",
       "  </tbody>\n",
       "</table>\n",
       "<p>37142 rows × 4 columns</p>\n",
       "</div>"
      ],
      "text/plain": [
       "       Country  EdLevel  YearsCodePro  Employment\n",
       "2           25        0          23.0           0\n",
       "3           25        0           7.0           0\n",
       "5           24        1          21.0           0\n",
       "6           25        1           3.0           0\n",
       "7           25        0           3.0           0\n",
       "...        ...      ...           ...         ...\n",
       "89156       25        0           8.0           0\n",
       "89158       21        0           8.0           0\n",
       "89162        3        2          24.0           0\n",
       "89167       10        0           2.0           0\n",
       "89170        8        2           9.0           0\n",
       "\n",
       "[37142 rows x 4 columns]"
      ]
     },
     "execution_count": 44,
     "metadata": {},
     "output_type": "execute_result"
    }
   ],
   "source": [
    "X"
   ]
  },
  {
   "cell_type": "code",
   "execution_count": 45,
   "id": "9ecbcbd0",
   "metadata": {},
   "outputs": [
    {
     "data": {
      "text/plain": [
       "array([[25.,  2., 15.,  1.]])"
      ]
     },
     "execution_count": 45,
     "metadata": {},
     "output_type": "execute_result"
    }
   ],
   "source": [
    "# country, edlevel, yearscode, employment\n",
    "\n",
    "X = np.array([['United States of America', 'Master’s degree', 15, 'Independent']])\n",
    "X[:, 0] = le_country.transform(X[:,0])\n",
    "X[:, 1] = le_education.transform(X[:,1])\n",
    "X[:, 3] = le_employment.transform(X[:,3])\n",
    "X = X.astype(float)\n",
    "X"
   ]
  },
  {
   "cell_type": "markdown",
   "id": "c78a1c9e",
   "metadata": {},
   "source": [
    "# Save the model"
   ]
  },
  {
   "cell_type": "code",
   "execution_count": 46,
   "id": "474acf90",
   "metadata": {},
   "outputs": [],
   "source": [
    "import pickle\n",
    "\n",
    "data = {'model': regressor, 'le_country': le_country, 'le_education': le_education, 'le_employment': le_employment}\n",
    "with open('saved_steps.pkl', 'wb') as file:\n",
    "    pickle.dump(data, file)"
   ]
  },
  {
   "cell_type": "code",
   "execution_count": 47,
   "id": "b64efe36",
   "metadata": {},
   "outputs": [],
   "source": [
    "# get the data back from the file\n",
    "\n",
    "with open('saved_steps.pkl', 'rb') as file:\n",
    "    data = pickle.load(file)\n",
    "\n",
    "regressor_loaded = data['model']\n",
    "le_country = data['le_country']\n",
    "le_education = data['le_education']\n",
    "le_employment = data['le_employment']"
   ]
  },
  {
   "cell_type": "code",
   "execution_count": 48,
   "id": "44302c99",
   "metadata": {},
   "outputs": [
    {
     "name": "stderr",
     "output_type": "stream",
     "text": [
      "C:\\Users\\aaron\\AppData\\Local\\Programs\\Python\\Python310\\lib\\site-packages\\sklearn\\base.py:465: UserWarning: X does not have valid feature names, but DecisionTreeRegressor was fitted with feature names\n",
      "  warnings.warn(\n"
     ]
    },
    {
     "data": {
      "text/plain": [
       "array([63600.])"
      ]
     },
     "execution_count": 48,
     "metadata": {},
     "output_type": "execute_result"
    }
   ],
   "source": [
    "y_pred = regressor_loaded.predict(X)\n",
    "y_pred"
   ]
  },
  {
   "cell_type": "code",
   "execution_count": 58,
   "id": "569090a4",
   "metadata": {},
   "outputs": [],
   "source": [
    "import pandas as pd \n",
    "import matplotlib.pyplot as plt \n",
    "\n",
    "def shorten_categories(categories, cutoff):\n",
    "    \"\"\"\n",
    "    discard the data whose category has fewer than <cutoff> number of data\n",
    "    \"\"\"\n",
    "    categorical_map = {}\n",
    "    for i in range(len(categories)):\n",
    "        if categories.values[i] >= cutoff:\n",
    "            categorical_map[categories.index[i]] = categories.index[i]\n",
    "        else:\n",
    "            categorical_map[categories.index[i]] = 'Other'\n",
    "    return categorical_map\n",
    "\n",
    "\n",
    "def clean_experience(x):\n",
    "    if x == 'More than 50 years':\n",
    "        return 50.0\n",
    "    if x == 'Less than 1 year':\n",
    "        return 0.5\n",
    "    return float(x)\n",
    "\n",
    "\n",
    "def clean_education(x):\n",
    "    if 'Bachelor’s degree' in x:\n",
    "        return 'Bachelor’s degree'\n",
    "    if 'Master’s degree' in x:\n",
    "        return 'Master’s degree'\n",
    "    if 'Professional degree' in x:\n",
    "        return 'Post grad'\n",
    "    return 'Less than Bechelors'\n",
    "\n",
    "\n",
    "def clean_employment(x):\n",
    "    if 'Employed' in x:\n",
    "        return 'Employed'\n",
    "    if 'Independent' in x:\n",
    "        return 'Independent'\n",
    "    return 'Other'\n",
    "\n",
    "\n",
    "def load_data():\n",
    "    df = pd.read_csv(\"survey_results_public_file2.csv\")\n",
    "    df = df[[\"Country\", \"EdLevel\", \"YearsCodePro\", \"Employment\", \"ConvertedCompYearly\"]]\n",
    "    df = df.rename({\"ConvertedCompYearly\": \"Salary\"}, axis=1)\n",
    "    df = df.dropna()\n",
    "\n",
    "    country_map = shorten_categories(df.Country.value_counts(), 400)\n",
    "    df['Country'] = df['Country'].map(country_map)\n",
    "\n",
    "    df = df[df['Salary'] <= 250000]\n",
    "    df = df[df['Salary'] >= 5000]\n",
    "    df = df[df['Country'] != 'Other']\n",
    "\n",
    "    df['YearsCodePro'] = df['YearsCodePro'].apply(clean_experience)\n",
    "    df['EdLevel'] = df['EdLevel'].apply(clean_education)\n",
    "    df['Employment'] = df['Employment'].apply(clean_employment)\n",
    "    \n",
    "    return df\n",
    "\n",
    "df = load_data()"
   ]
  },
  {
   "cell_type": "code",
   "execution_count": 66,
   "id": "1b8cfcc3",
   "metadata": {},
   "outputs": [
    {
     "data": {
      "text/html": [
       "<div>\n",
       "<style scoped>\n",
       "    .dataframe tbody tr th:only-of-type {\n",
       "        vertical-align: middle;\n",
       "    }\n",
       "\n",
       "    .dataframe tbody tr th {\n",
       "        vertical-align: top;\n",
       "    }\n",
       "\n",
       "    .dataframe thead th {\n",
       "        text-align: right;\n",
       "    }\n",
       "</style>\n",
       "<table border=\"1\" class=\"dataframe\">\n",
       "  <thead>\n",
       "    <tr style=\"text-align: right;\">\n",
       "      <th></th>\n",
       "      <th>Country</th>\n",
       "      <th>EdLevel</th>\n",
       "      <th>YearsCodePro</th>\n",
       "      <th>Employment</th>\n",
       "      <th>Salary</th>\n",
       "    </tr>\n",
       "  </thead>\n",
       "  <tbody>\n",
       "    <tr>\n",
       "      <th>2</th>\n",
       "      <td>United States of America</td>\n",
       "      <td>Bachelor’s degree</td>\n",
       "      <td>23.0</td>\n",
       "      <td>Employed</td>\n",
       "      <td>250000.0</td>\n",
       "    </tr>\n",
       "    <tr>\n",
       "      <th>3</th>\n",
       "      <td>United States of America</td>\n",
       "      <td>Bachelor’s degree</td>\n",
       "      <td>7.0</td>\n",
       "      <td>Employed</td>\n",
       "      <td>156000.0</td>\n",
       "    </tr>\n",
       "    <tr>\n",
       "      <th>5</th>\n",
       "      <td>United Kingdom of Great Britain and Northern I...</td>\n",
       "      <td>Less than Bechelors</td>\n",
       "      <td>21.0</td>\n",
       "      <td>Employed</td>\n",
       "      <td>96828.0</td>\n",
       "    </tr>\n",
       "    <tr>\n",
       "      <th>6</th>\n",
       "      <td>United States of America</td>\n",
       "      <td>Less than Bechelors</td>\n",
       "      <td>3.0</td>\n",
       "      <td>Employed</td>\n",
       "      <td>135000.0</td>\n",
       "    </tr>\n",
       "    <tr>\n",
       "      <th>7</th>\n",
       "      <td>United States of America</td>\n",
       "      <td>Bachelor’s degree</td>\n",
       "      <td>3.0</td>\n",
       "      <td>Employed</td>\n",
       "      <td>80000.0</td>\n",
       "    </tr>\n",
       "    <tr>\n",
       "      <th>...</th>\n",
       "      <td>...</td>\n",
       "      <td>...</td>\n",
       "      <td>...</td>\n",
       "      <td>...</td>\n",
       "      <td>...</td>\n",
       "    </tr>\n",
       "    <tr>\n",
       "      <th>1557</th>\n",
       "      <td>Romania</td>\n",
       "      <td>Bachelor’s degree</td>\n",
       "      <td>5.0</td>\n",
       "      <td>Employed</td>\n",
       "      <td>57724.0</td>\n",
       "    </tr>\n",
       "    <tr>\n",
       "      <th>3249</th>\n",
       "      <td>New Zealand</td>\n",
       "      <td>Bachelor’s degree</td>\n",
       "      <td>15.0</td>\n",
       "      <td>Employed</td>\n",
       "      <td>80127.0</td>\n",
       "    </tr>\n",
       "    <tr>\n",
       "      <th>5387</th>\n",
       "      <td>New Zealand</td>\n",
       "      <td>Bachelor’s degree</td>\n",
       "      <td>33.0</td>\n",
       "      <td>Employed</td>\n",
       "      <td>151755.0</td>\n",
       "    </tr>\n",
       "    <tr>\n",
       "      <th>5523</th>\n",
       "      <td>New Zealand</td>\n",
       "      <td>Master’s degree</td>\n",
       "      <td>14.0</td>\n",
       "      <td>Employed</td>\n",
       "      <td>82858.0</td>\n",
       "    </tr>\n",
       "    <tr>\n",
       "      <th>5527</th>\n",
       "      <td>New Zealand</td>\n",
       "      <td>Bachelor’s degree</td>\n",
       "      <td>8.0</td>\n",
       "      <td>Employed</td>\n",
       "      <td>69807.0</td>\n",
       "    </tr>\n",
       "  </tbody>\n",
       "</table>\n",
       "<p>130 rows × 5 columns</p>\n",
       "</div>"
      ],
      "text/plain": [
       "                                                Country              EdLevel  \\\n",
       "2                              United States of America    Bachelor’s degree   \n",
       "3                              United States of America    Bachelor’s degree   \n",
       "5     United Kingdom of Great Britain and Northern I...  Less than Bechelors   \n",
       "6                              United States of America  Less than Bechelors   \n",
       "7                              United States of America    Bachelor’s degree   \n",
       "...                                                 ...                  ...   \n",
       "1557                                            Romania    Bachelor’s degree   \n",
       "3249                                        New Zealand    Bachelor’s degree   \n",
       "5387                                        New Zealand    Bachelor’s degree   \n",
       "5523                                        New Zealand      Master’s degree   \n",
       "5527                                        New Zealand    Bachelor’s degree   \n",
       "\n",
       "      YearsCodePro Employment    Salary  \n",
       "2             23.0   Employed  250000.0  \n",
       "3              7.0   Employed  156000.0  \n",
       "5             21.0   Employed   96828.0  \n",
       "6              3.0   Employed  135000.0  \n",
       "7              3.0   Employed   80000.0  \n",
       "...            ...        ...       ...  \n",
       "1557           5.0   Employed   57724.0  \n",
       "3249          15.0   Employed   80127.0  \n",
       "5387          33.0   Employed  151755.0  \n",
       "5523          14.0   Employed   82858.0  \n",
       "5527           8.0   Employed   69807.0  \n",
       "\n",
       "[130 rows x 5 columns]"
      ]
     },
     "execution_count": 66,
     "metadata": {},
     "output_type": "execute_result"
    }
   ],
   "source": [
    "df.groupby(['Country']).head()"
   ]
  }
 ],
 "metadata": {
  "kernelspec": {
   "display_name": "ml",
   "language": "python",
   "name": "ml"
  },
  "language_info": {
   "codemirror_mode": {
    "name": "ipython",
    "version": 3
   },
   "file_extension": ".py",
   "mimetype": "text/x-python",
   "name": "python",
   "nbconvert_exporter": "python",
   "pygments_lexer": "ipython3",
   "version": "3.10.10"
  }
 },
 "nbformat": 4,
 "nbformat_minor": 5
}
